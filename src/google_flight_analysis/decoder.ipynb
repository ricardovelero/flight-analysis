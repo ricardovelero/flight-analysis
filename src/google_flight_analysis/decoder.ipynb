{
 "cells": [
  {
   "cell_type": "code",
   "execution_count": 1,
   "metadata": {},
   "outputs": [
    {
     "name": "stdout",
     "output_type": "stream",
     "text": [
      "b'\\x08\\x1c\\x10\\x03\\x1a\\tj\\x07\\x08\\x01\\x12\\x03MAD\\x1a\\tr\\x07\\x08\\x01\\x12\\x03MAD@\\x01H\\x01p\\x02\\x82\\x01\\r\\x08'\n"
     ]
    }
   ],
   "source": [
    "import base64\n",
    "code = \"CBwQAxoJagcIARIDTUFEGglyBwgBEgNNQURAAUgBcAKCAQ0I\"\n",
    "decoded_code = base64.b64decode(code)\n",
    "print(decoded_code)\n"
   ]
  },
  {
   "cell_type": "code",
   "execution_count": 3,
   "metadata": {},
   "outputs": [
    {
     "name": "stdout",
     "output_type": "stream",
     "text": [
      "b'\\x08\\x1c\\x10\\x03\\x1a\\x0fj\\r\\x08\\x02\\x12\\t/m/01978d\\x1a\\x0fr\\r\\x08\\x02\\x12\\t/m/01978d@\\x01H\\x01p\\x02\\x82\\x01\\x0b\\x08'\n"
     ]
    }
   ],
   "source": [
    "import base64\n",
    "code = \"CBwQAxoPag0IAhIJL20vMDE5NzhkGg9yDQgCEgkvbS8wMTk3OGRAAUgBcAKCAQsI\"\n",
    "decoded_code = base64.b64decode(code)\n",
    "print(decoded_code)\n"
   ]
  },
  {
   "cell_type": "code",
   "execution_count": 4,
   "metadata": {},
   "outputs": [
    {
     "name": "stdout",
     "output_type": "stream",
     "text": [
      "b'\\x01\\x10\\x01\\x98\\x01\\x01\\xb5\\xfb'\n"
     ]
    }
   ],
   "source": [
    "import base64\n",
    "code = \"ARABmAEB&tfu=GgA\"\n",
    "decoded_code = base64.b64decode(code)\n",
    "print(decoded_code)"
   ]
  },
  {
   "cell_type": "code",
   "execution_count": 7,
   "metadata": {},
   "outputs": [
    {
     "name": "stdout",
     "output_type": "stream",
     "text": [
      "b'\\x01\\x98\\x01\\x01\\x0b_\\xb8h\\x00'\n"
     ]
    }
   ],
   "source": [
    "import base64\n",
    "code = \"AZgBAQ&tfu=GgA\"\n",
    "decoded_code = base64.b64decode(code)\n",
    "print(decoded_code)"
   ]
  },
  {
   "cell_type": "code",
   "execution_count": 9,
   "metadata": {},
   "outputs": [
    {
     "name": "stdout",
     "output_type": "stream",
     "text": [
      "\b\u001c\u0010\u0003\u001a\u000fj\u0002\u0012\t/m/01978d\u001a\u000fr\u0002\u0012\t/m/01978d@\u0001H\u0001p\u0002\u0001\n"
     ]
    }
   ],
   "source": [
    "decoded_string = b'\\x08\\x1c\\x10\\x03\\x1a\\x0fj\\r\\x08\\x02\\x12\\t/m/01978d\\x1a\\x0fr\\r\\x08\\x02\\x12\\t/m/01978d@\\x01H\\x01p\\x02\\x82\\x01\\x0b\\x08'\n",
    "ascii_string = ''.join(chr(b) for b in decoded_string)\n",
    "print(ascii_string)\n"
   ]
  }
 ],
 "metadata": {
  "kernelspec": {
   "display_name": "Python 3",
   "language": "python",
   "name": "python3"
  },
  "language_info": {
   "codemirror_mode": {
    "name": "ipython",
    "version": 3
   },
   "file_extension": ".py",
   "mimetype": "text/x-python",
   "name": "python",
   "nbconvert_exporter": "python",
   "pygments_lexer": "ipython3",
   "version": "3.9.6"
  }
 },
 "nbformat": 4,
 "nbformat_minor": 2
}
